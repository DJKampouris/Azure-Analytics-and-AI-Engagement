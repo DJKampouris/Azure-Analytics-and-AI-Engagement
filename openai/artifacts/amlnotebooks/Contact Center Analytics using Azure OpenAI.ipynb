{
  "cells": [
    {
      "cell_type": "markdown",
      "source": [
        "# Contact Center Analytics and Improvement using Azure OpenAI Service\r\n",
        "\r\n",
        "## Extract rich insights from call transcripts\r\n"
      ],
      "metadata": {
        "nteract": {
          "transient": {
            "deleting": false
          }
        }
      }
    },
    {
      "cell_type": "markdown",
      "source": [
        "Contact center analytics and improvement using Azure OpenAI services allows businesses to gain deep insights from the recordings of conversations that have taken place between customers and contact center agents. These recordings are processed using natural language processing techniques, and the data extracted is then analyzed to gain insight into the call topics, customer sentiment, and the effectiveness of contact center agents. This information can then be used to improve customer experiences, streamline processes, and identify areas of potential improvement. \r\n",
        "Additionally, Azure OpenAI services can be used to train automated systems with the insights gained from the recorded customer conversations, which helps in providing real-time assistance to customers quickly and efficiently."
      ],
      "metadata": {
        "nteract": {
          "transient": {
            "deleting": false
          }
        }
      }
    },
    {
      "cell_type": "markdown",
      "source": [
        "### Setup global variables "
      ],
      "metadata": {
        "nteract": {
          "transient": {
            "deleting": false
          }
        }
      }
    },
    {
      "cell_type": "code",
      "source": [
        "import openai\r\n",
        "import os\r\n",
        "import numpy as np\r\n",
        "import pandas as pd\r\n",
        "from openai import cli\r\n",
        "import json\r\n",
        "\r\n",
        "# Load config values\r\n",
        "with open(r'config.json') as config_file:\r\n",
        "    config_details = json.load(config_file)\r\n",
        "\r\n",
        "# Setting up the deployment name\r\n",
        "deployment_name = config_details['COMPLETIONS_MODEL']\r\n",
        "\r\n",
        "# This is set to `azure`\r\n",
        "openai.api_type = \"azure\"\r\n",
        "\r\n",
        "# The API key for your Azure OpenAI resource.\r\n",
        "API_KEY = config_details['OPENAI_API_KEY']\r\n",
        "openai.api_key = os.getenv(API_KEY)\r\n",
        "openai.api_key = API_KEY\r\n",
        "\r\n",
        "# The base URL for your Azure OpenAI resource. e.g. \"https://<your resource name>.openai.azure.com\"\r\n",
        "openai.api_base = config_details['OPENAI_API_BASE']\r\n",
        "\r\n",
        "# Currently OPENAI API have the following versions available: 2022-12-01\r\n",
        "openai.api_version = config_details['OPENAI_API_VERSION']\r\n",
        "\r\n",
        "ENGINE = config_details['OPENAI_ENGINE_DAVINCI']"
      ],
      "outputs": [],
      "execution_count": 10,
      "metadata": {
        "jupyter": {
          "source_hidden": false,
          "outputs_hidden": false
        },
        "nteract": {
          "transient": {
            "deleting": false
          }
        },
        "gather": {
          "logged": 1687325439851
        }
      }
    },
    {
      "cell_type": "markdown",
      "source": [
        "# Analytics"
      ],
      "metadata": {
        "nteract": {
          "transient": {
            "deleting": false
          }
        }
      }
    },
    {
      "cell_type": "markdown",
      "source": [
        "### Customer and agent conversation "
      ],
      "metadata": {
        "nteract": {
          "transient": {
            "deleting": false
          }
        }
      }
    },
    {
      "cell_type": "code",
      "source": [
        "transcript = \"\"\"\r\n",
        "Agent: Hi there! Thank you for calling Wide World Importers. How may I help you today?\r\n",
        "Customer: Could you suggest some solar panels for my new home.\r\n",
        "Agent: Sure! We offer free solar panel analysis for your home to determine what kind of solar panel you need? Would you like to request a free solar panel analysis?\r\n",
        "Customer: Yes, I'd like a free solar panel analysis.\r\n",
        "Agent: Awesome! Let's get started. Can you give me your street address?\r\n",
        "Customer: SW 61st Ave.\r\n",
        "Agent: What's your ZIP code?\r\n",
        "Customer: FL 33314\r\n",
        "Agent: Okay, let me pull up your information… Based on the average energy consumption in your neighbourhood, we recommend Relecloud 150 (RC-MX100-800). It comes with excellent panels compatible with the most portable power stations. \r\n",
        "It is an 800-Watt 12-Volt Off-Grid Solar Premium Kit w/ 8-Piece 100W Monocrystalline Panel and 60A MPPT Rover Charge Controller. \r\n",
        "You can also check our bestselling solar panels Relecloud 100 and Relecloud 125. They have been rated 4.5/5 by our customers.\r\n",
        "Customer: Thanks. That's very helpful.\r\n",
        "Agent: No problem. Is there anything else I may assist you with?\r\n",
        "Customer: No, thank you. I will look at the options suggested by you.\r\n",
        "Agent:  Sure. Wish you a great day!\r\n",
        "\"\"\""
      ],
      "outputs": [],
      "execution_count": 7,
      "metadata": {
        "jupyter": {
          "source_hidden": false,
          "outputs_hidden": false
        },
        "nteract": {
          "transient": {
            "deleting": false
          }
        },
        "gather": {
          "logged": 1687325414364
        }
      }
    },
    {
      "cell_type": "markdown",
      "source": [
        "### Instructions for the Azure OpenAI Service "
      ],
      "metadata": {
        "nteract": {
          "transient": {
            "deleting": false
          }
        }
      }
    },
    {
      "cell_type": "code",
      "source": [
        "instructions = \"\"\"Extract the following from the conversation:\r\n",
        "1. What was the main reason of the conversation?\r\n",
        "2. what was the overall sentiment of the customer?\r\n",
        "3. How did the agent handle the conversation?\r\n",
        "4. what was the final outcome of the conversation?\r\n",
        "5. Create a short summary of the conversation\r\n",
        "6. any Action items for follow-up?\r\n",
        "\"\"\""
      ],
      "outputs": [],
      "execution_count": 8,
      "metadata": {
        "jupyter": {
          "source_hidden": false,
          "outputs_hidden": false
        },
        "nteract": {
          "transient": {
            "deleting": false
          }
        },
        "gather": {
          "logged": 1687325417050
        }
      }
    },
    {
      "cell_type": "code",
      "source": [
        "def transcript_analysis(transcript, instructions):\r\n",
        "    prompt = transcript + instructions\r\n",
        "    response = openai.Completion.create(\r\n",
        "      engine=ENGINE,\r\n",
        "        prompt= prompt,\r\n",
        "        temperature=1,\r\n",
        "        max_tokens=2500,\r\n",
        "        top_p=0.5,\r\n",
        "        frequency_penalty=0,\r\n",
        "        presence_penalty=0,\r\n",
        "        best_of=1,\r\n",
        "        stop=None\r\n",
        "  )\r\n",
        "    res = response['choices'][0]['text']\r\n",
        "    print(res)\r\n",
        "    \r\n",
        "transcript_analysis(transcript, instructions)"
      ],
      "outputs": [
        {
          "output_type": "stream",
          "name": "stdout",
          "text": "\n1. The main reason of the conversation was to suggest solar panels for the customer's new home.\n2. The customer was satisfied with the help they received.\n3. The agent handled the conversation professionally and provided helpful information.\n4. The final outcome of the conversation was that the customer thanked the agent and said they would look at the options suggested.\n5. The customer called Wide World Importers for help in finding solar panels for their new home. The agent provided helpful information and suggested Relecloud 150, Relecloud 100, and Relecloud 125 as options. The customer thanked the agent and said they would look at the options suggested.\n6. No action items for follow-up.\n"
        }
      ],
      "execution_count": 11,
      "metadata": {
        "jupyter": {
          "source_hidden": false,
          "outputs_hidden": false
        },
        "nteract": {
          "transient": {
            "deleting": false
          }
        },
        "gather": {
          "logged": 1687325447737
        }
      }
    },
    {
      "cell_type": "markdown",
      "source": [
        "# Improvement"
      ],
      "metadata": {
        "nteract": {
          "transient": {
            "deleting": false
          }
        }
      }
    },
    {
      "cell_type": "code",
      "source": [
        "prompt = \"\"\"\r\n",
        "Employee: Hi there! Welcome to Wide World Importers. How may I help you today?\r\n",
        "\r\n",
        "Customer: Could you suggest some solar panels for my new home.\r\n",
        "\r\n",
        "Employee: Sure! We offer free solar panel analysis for your home to determine what kind of solar panel you need? Would you like to request a free solar panel analysis?\r\n",
        "\r\n",
        "Customer: Yes, I'd like a free solar panel analysis.\r\n",
        "\r\n",
        "Employee: Awesome! Let's get started. What's your street address?\r\n",
        "\r\n",
        "Customer: SW 61st Ave.\r\n",
        "\r\n",
        "Employee: What's your ZIP code?\r\n",
        "\r\n",
        "Customer: FL 33314\r\n",
        "\r\n",
        "Employee: Okay, let me pull up your information…\r\n",
        "Based on the average energy consumption in your neighbourhood, we recommend Relecloud 150 (RC-MX100-800). It comes with excellent panels compatible with the most portable power stations. It is an 800-Watt 12-Volt Off-Grid Solar Premium Kit w/ 8-Piece 100W Monocrystalline Panel and 60A MPPT Rover Charge Controller. You can also check our bestselling solar panels Relecloud 100 and Relecloud 125. They have been rated 4.5/5 by our customers.\r\n",
        " \r\n",
        "Customer: Thanks. That’s very helpful.\r\n",
        "\r\n",
        "Employee: No problem. Is there anything else I may assist you with?\r\n",
        "\r\n",
        "Customer: No, thank you. I will look at the options suggested by you.\r\n",
        "\r\n",
        "Employee:  Sure. Wish you a great day!\r\n",
        "\"\"\""
      ],
      "outputs": [],
      "execution_count": 12,
      "metadata": {
        "jupyter": {
          "source_hidden": false,
          "outputs_hidden": false
        },
        "nteract": {
          "transient": {
            "deleting": false
          }
        },
        "gather": {
          "logged": 1687325452311
        }
      }
    },
    {
      "cell_type": "code",
      "source": [
        "instruction =\"improve the above transcript:\""
      ],
      "outputs": [],
      "execution_count": 13,
      "metadata": {
        "jupyter": {
          "source_hidden": false,
          "outputs_hidden": false
        },
        "nteract": {
          "transient": {
            "deleting": false
          }
        },
        "gather": {
          "logged": 1687325455580
        }
      }
    },
    {
      "cell_type": "code",
      "source": [
        "def transcript_betterment(prompt):\r\n",
        "    prompt = prompt + instruction\r\n",
        "    response = openai.Completion.create(\r\n",
        "      engine=ENGINE,\r\n",
        "        prompt= prompt,\r\n",
        "        temperature=0.9,\r\n",
        "        max_tokens=2500,\r\n",
        "        top_p=1,\r\n",
        "        frequency_penalty=0,\r\n",
        "        presence_penalty=0,\r\n",
        "        best_of=1,\r\n",
        "        stop=None\r\n",
        "  )\r\n",
        "    res = response['choices'][0]['text']\r\n",
        "    print(res)\r\n",
        "    \r\n",
        "transcript_betterment(prompt)"
      ],
      "outputs": [
        {
          "output_type": "stream",
          "name": "stdout",
          "text": "\n\nEmployee: Hi there! Welcome to Wide World Importers. How can I help you today?\n\nCustomer: Could you suggest some solar panels for my new home?\n\nEmployee: Absolutely! We offer free solar panel analysis for your home to determine what kind of solar panel you need. Would you like to request a free solar panel analysis?\n\nCustomer: Yes, please.\n\nEmployee: Great! Let me get some information from you. What's your street address?\n\nCustomer: SW 61st Ave.\n\nEmployee: And what's your ZIP code?\n\nCustomer: FL 33314\n\nEmployee: Got it. Let me pull up your information… Based on the average energy consumption in your neighbourhood, we recommend Relecloud 150 (RC-MX100-800). It comes with excellent panels compatible with the most portable power stations. It is an 800-Watt 12-Volt Off-Grid Solar Premium Kit w/ 8-Piece 100W Monocrystalline Panel and 60A MPPT Rover Charge Controller. You can also check our bestselling solar panels Relecloud 100 and Relecloud 125. They have been rated 4.5/5 by our customers.\n\nCustomer: That's very helpful. Thanks.\n\nEmployee: No problem. Is there anything else I can help you with?\n\nCustomer: No, thank you. I will look at the options you suggested.\n\nEmployee: Great! Have a great day!\n"
        }
      ],
      "execution_count": 14,
      "metadata": {
        "jupyter": {
          "source_hidden": false,
          "outputs_hidden": false
        },
        "nteract": {
          "transient": {
            "deleting": false
          }
        },
        "gather": {
          "logged": 1687325463555
        }
      }
    },
    {
      "cell_type": "markdown",
      "source": [
        "# Summary and Issue Resolution"
      ],
      "metadata": {
        "nteract": {
          "transient": {
            "deleting": false
          }
        }
      }
    },
    {
      "cell_type": "markdown",
      "source": [
        "## Natural Language"
      ],
      "metadata": {
        "nteract": {
          "transient": {
            "deleting": false
          }
        }
      }
    },
    {
      "cell_type": "code",
      "source": [
        "def get_resolution(text):\r\n",
        "    add_text = \"\"\"Generate a summary of the below given conversation in the following format:\r\n",
        "                  Customer problem:\r\n",
        "                  Outcome of the conversation:\r\n",
        "                  Action items for follow-up:\r\n",
        "                  Customer budget:\r\n",
        "                  Departure city:\r\n",
        "                  Destination city:\r\n",
        "                  \r\n",
        "                  Conversation:\\n\"\"\"\r\n",
        "    prompt = add_text + '\\n' + text + '\\n' + 'Summary:' + '\\n'\r\n",
        "    response = openai.Completion.create(\r\n",
        "      engine=ENGINE,\r\n",
        "        prompt= prompt,\r\n",
        "        temperature=0.7,\r\n",
        "        max_tokens=1500,\r\n",
        "        top_p=1,\r\n",
        "        frequency_penalty=0,\r\n",
        "        presence_penalty=0,\r\n",
        "        best_of=1,\r\n",
        "        stop=None\r\n",
        "  )\r\n",
        "    res = response['choices'][0]['text']\r\n",
        "    print(res)"
      ],
      "outputs": [],
      "execution_count": 15,
      "metadata": {
        "jupyter": {
          "source_hidden": false,
          "outputs_hidden": false
        },
        "nteract": {
          "transient": {
            "deleting": false
          }
        },
        "gather": {
          "logged": 1687325469527
        }
      }
    },
    {
      "cell_type": "code",
      "source": [
        "text = \"\"\"User: Hi there, I’m off between August 25 and September 11. I saved up 4000 for a nice trip. If I flew out from San Francisco, what are your suggestions for where I can go?\r\n",
        "          Agent: For that budget you could travel to cities in the US, Mexico, Brazil, Italy or Japan. Any preferences?\r\n",
        "          User: Excellent, I’ve always wanted to see Japan. What kind of hotel can I expect?\r\n",
        "          Agent: Great, let me check what I have. First, can I just confirm with you that this is a trip for one adult?\r\n",
        "          User: Yes it is\r\n",
        "          Agent: Great, thank you, In that case I can offer you 15 days at HOTEL Sugoi, a 3 star hotel close to a Palace. You would be staying there between August 25th and September 7th. They offer free wifi and have an excellent guest rating of 8.49/10. The entire package costs 2024.25USD. Should I book this for you?\r\n",
        "          User: That sounds really good actually. Please book me at Sugoi.\r\n",
        "          Agent: I can do that for you! Can I help you with anything else today?\r\n",
        "          User: No, thanks! Please just send me the itinerary to my email soon.\"\"\"\r\n",
        "\r\n",
        "get_resolution(text)"
      ],
      "outputs": [
        {
          "output_type": "stream",
          "name": "stdout",
          "text": "Customer problem: The customer was looking for a vacation destination and hotel within their budget of $4000.\nOutcome of the conversation: The customer chose to stay at the Hotel Sugoi in Japan for 15 days, costing $2024.25. \nAction items for follow-up: The agent will send the customer an itinerary to their email. \nCustomer budget: $4000 \nDeparture city: San Francisco \nDestination city: Japan\n"
        }
      ],
      "execution_count": 16,
      "metadata": {
        "jupyter": {
          "source_hidden": false,
          "outputs_hidden": false
        },
        "nteract": {
          "transient": {
            "deleting": false
          }
        },
        "gather": {
          "logged": 1687325476712
        }
      }
    },
    {
      "cell_type": "markdown",
      "source": [
        "## Machine Readable"
      ],
      "metadata": {
        "nteract": {
          "transient": {
            "deleting": false
          }
        }
      }
    },
    {
      "cell_type": "code",
      "source": [
        "instruction = \"\"\"Extract the following information from the conversation below:   \r\n",
        "\r\n",
        "Call reason (key: reason)  \r\n",
        "Caller name (key: caller_name)  \r\n",
        "Agent Name (key: agent_name)  \r\n",
        "Truck location (key: location)  \r\n",
        "Vin (key: VIN)  \r\n",
        "Caller sentiment (key: caller_sentiment)  \r\n",
        "Fault code (key: fault_code)  \r\n",
        "A short, yet detailed summary (key: summary)  \r\n",
        "\r\n",
        "Please answer in JSON machine-readable format, using the keys from above. Format the output as a JSON object called “results”. Pretty print the JSON and make sure that it is properly closed at the end.  \"\"\"\r\n",
        "\r\n",
        "prompt = instruction + transcript"
      ],
      "outputs": [],
      "execution_count": 17,
      "metadata": {
        "jupyter": {
          "source_hidden": false,
          "outputs_hidden": false
        },
        "nteract": {
          "transient": {
            "deleting": false
          }
        },
        "gather": {
          "logged": 1687325575830
        }
      }
    },
    {
      "cell_type": "code",
      "source": [
        "def get_resolution_machine_readable(prompt):\r\n",
        "    prompt = prompt\r\n",
        "    response = openai.Completion.create(\r\n",
        "      engine=ENGINE,\r\n",
        "        prompt= prompt,\r\n",
        "        temperature=0.7,\r\n",
        "        max_tokens=1500,\r\n",
        "        top_p=1,\r\n",
        "        frequency_penalty=0,\r\n",
        "        presence_penalty=0,\r\n",
        "        best_of=1,\r\n",
        "        stop=None\r\n",
        "  )\r\n",
        "    res = response['choices'][0]['text']\r\n",
        "    print(res)\r\n",
        "\r\n",
        "get_resolution_machine_readable(prompt)"
      ],
      "outputs": [
        {
          "output_type": "stream",
          "name": "stdout",
          "text": "\nresults = {\n  \"reason\": \"Request a free solar panel analysis\",\n  \"caller_name\": \"Customer\",\n  \"agent_name\": \"Agent\",\n  \"location\": \"SW 61st Ave., FL 33314\",\n  \"VIN\": null,\n  \"caller_sentiment\": \"Thanks. That's very helpful.\",\n  \"fault_code\": null,\n  \"summary\": \"The customer requested a free solar panel analysis and the Agent provided information about Relecloud 150, Relecloud 100 and Relecloud 125 as the bestsellers. The customer thanked the Agent for the help.\"\n}\n"
        }
      ],
      "execution_count": 19,
      "metadata": {
        "jupyter": {
          "source_hidden": false,
          "outputs_hidden": false
        },
        "nteract": {
          "transient": {
            "deleting": false
          }
        },
        "gather": {
          "logged": 1687325668540
        }
      }
    }
  ],
  "metadata": {
    "kernelspec": {
      "name": "python310-sdkv2",
      "language": "python",
      "display_name": "Python 3.10 - SDK v2"
    },
    "language_info": {
      "name": "python",
      "version": "3.10.9",
      "mimetype": "text/x-python",
      "codemirror_mode": {
        "name": "ipython",
        "version": 3
      },
      "pygments_lexer": "ipython3",
      "nbconvert_exporter": "python",
      "file_extension": ".py"
    },
    "microsoft": {
      "ms_spell_check": {
        "ms_spell_check_language": "en"
      },
      "host": {
        "AzureML": {
          "notebookHasBeenCompleted": true
        }
      }
    },
    "nteract": {
      "version": "nteract-front-end@1.0.0"
    },
    "kernel_info": {
      "name": "python310-sdkv2"
    }
  },
  "nbformat": 4,
  "nbformat_minor": 2
}